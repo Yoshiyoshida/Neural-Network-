{
 "cells": [
  {
   "cell_type": "code",
   "execution_count": 1,
   "metadata": {},
   "outputs": [
    {
     "name": "stderr",
     "output_type": "stream",
     "text": [
      "/Users/yoshidayuusei/.pyenv/versions/3.6.5/lib/python3.6/importlib/_bootstrap.py:219: RuntimeWarning: compiletime version 3.5 of module 'tensorflow.python.framework.fast_tensor_util' does not match runtime version 3.6\n",
      "  return f(*args, **kwds)\n"
     ]
    }
   ],
   "source": [
    "from tensorflow.python.keras.datasets import cifar10"
   ]
  },
  {
   "cell_type": "code",
   "execution_count": 2,
   "metadata": {},
   "outputs": [],
   "source": [
    "(X_train, y_train) , (X_test, y_test) = cifar10.load_data()"
   ]
  },
  {
   "cell_type": "code",
   "execution_count": 3,
   "metadata": {},
   "outputs": [
    {
     "name": "stdout",
     "output_type": "stream",
     "text": [
      "X_train.shape : (50000, 32, 32, 3)\n",
      "y_train.shape : (50000, 1)\n",
      "X_test.shape : (10000, 32, 32, 3)\n",
      "y_test.shape : (10000, 1)\n"
     ]
    }
   ],
   "source": [
    "print('X_train.shape :', X_train.shape)\n",
    "print('y_train.shape :', y_train.shape)\n",
    "print('X_test.shape :', X_test.shape)\n",
    "print('y_test.shape :', y_test.shape)"
   ]
  },
  {
   "cell_type": "code",
   "execution_count": 4,
   "metadata": {},
   "outputs": [],
   "source": [
    "from tensorflow.python.keras.utils import to_categorical"
   ]
  },
  {
   "cell_type": "code",
   "execution_count": 5,
   "metadata": {},
   "outputs": [
    {
     "name": "stdout",
     "output_type": "stream",
     "text": [
      "X_train.shape : (50000, 32, 32, 3)\n",
      "y_train.shape : (50000, 10)\n",
      "X_test.shape : (10000, 32, 32, 3)\n",
      "y_test.shape : (10000, 10)\n"
     ]
    }
   ],
   "source": [
    "#特徴量の正則化\n",
    "X_train = X_train/255\n",
    "X_test = X_test/255\n",
    "\n",
    "#クラスベクトルの1-hotベクトル化\n",
    "y_train = to_categorical(y_train, 10)\n",
    "y_test = to_categorical(y_test, 10)\n",
    "\n",
    "print('X_train.shape :', X_train.shape)\n",
    "print('y_train.shape :', y_train.shape)\n",
    "print('X_test.shape :', X_test.shape)\n",
    "print('y_test.shape :', y_test.shape)"
   ]
  },
  {
   "cell_type": "code",
   "execution_count": 6,
   "metadata": {},
   "outputs": [],
   "source": [
    "from tensorflow.python.keras.models import Sequential\n",
    "\n",
    "model = Sequential()"
   ]
  },
  {
   "cell_type": "code",
   "execution_count": 7,
   "metadata": {},
   "outputs": [],
   "source": [
    "#畳み込み層ではConv2Dを用いる\n",
    "from tensorflow.python.keras.layers import Conv2D\n",
    "\n",
    "model.add(\n",
    "    Conv2D(\n",
    "        filters=32,#出力のチャンネル数\n",
    "        input_shape=(32, 32, 3),\n",
    "        kernel_size=(3, 3),#奇数*奇数の正方形であることが多い\n",
    "        strides=(1, 1),#カーネルを動かす幅を指定する\n",
    "        padding='same',\n",
    "        #データの幅を扱う。ここではデータを畳み込んだときに入力と出力が等しくなるようにする。周りはゼロでおおう。\n",
    "        #ゼロパディングしないとき：padding='valid'\n",
    "        activation='relu'\n",
    "    )\n",
    ")\n",
    "\n",
    "model.add(\n",
    "    Conv2D(\n",
    "        filters=32,#出力のチャンネル数\n",
    "        kernel_size=(3, 3),\n",
    "        strides=(1, 1),\n",
    "        padding='same',\n",
    "        activation='relu'\n",
    "    )\n",
    ")"
   ]
  },
  {
   "cell_type": "code",
   "execution_count": 8,
   "metadata": {},
   "outputs": [],
   "source": [
    "#プーリング層の追加\n",
    "#よく使われるマックスプーリングを使用\n",
    "#ある領域の最大値を取ってきてサイズを縮小する\n",
    "from tensorflow.python.keras.layers import MaxPooling2D\n",
    "\n",
    "model.add(MaxPooling2D(pool_size=(2, 2)))"
   ]
  },
  {
   "cell_type": "code",
   "execution_count": 9,
   "metadata": {},
   "outputs": [],
   "source": [
    "#ドロップアウトレーヤーの追加\n",
    "#層の中のニューロンをランダムに無効化し、パラメーターの自由度を抑える\n",
    "#=>過学習を防ぐ\n",
    "#more ：　入力値からランダムにrate分だけ無効化し、強制的に０にする\n",
    "#過度なdropoutは学習不足、学習速度の低下を招く\n",
    "from tensorflow.python.keras.layers import Dropout\n",
    "\n",
    "model.add(Dropout(0.25))"
   ]
  },
  {
   "cell_type": "code",
   "execution_count": 10,
   "metadata": {},
   "outputs": [],
   "source": [
    "#畳み込み層の追加\n",
    "model.add(\n",
    "    Conv2D(\n",
    "        filters=64,\n",
    "        kernel_size=(3, 3),\n",
    "        strides=(1, 1),\n",
    "        padding='same',\n",
    "        activation='relu'\n",
    "    )\n",
    ")\n",
    "\n",
    "model.add(\n",
    "    Conv2D(\n",
    "        filters=64,\n",
    "        kernel_size=(3, 3),\n",
    "        strides=(1, 1),\n",
    "        padding='same',\n",
    "        activation='relu'\n",
    "        )\n",
    ")"
   ]
  },
  {
   "cell_type": "code",
   "execution_count": 11,
   "metadata": {},
   "outputs": [],
   "source": [
    "#プーリング層の追加\n",
    "model.add(MaxPooling2D(pool_size=(2, 2)))\n",
    "model.add(Dropout(0.25))"
   ]
  },
  {
   "cell_type": "code",
   "execution_count": 12,
   "metadata": {},
   "outputs": [
    {
     "data": {
      "text/plain": [
       "(None, 8, 8, 64)"
      ]
     },
     "execution_count": 12,
     "metadata": {},
     "output_type": "execute_result"
    }
   ],
   "source": [
    "model.output_shape\n",
    "#データ数,　縦, 横, チャンネル数"
   ]
  },
  {
   "cell_type": "code",
   "execution_count": 13,
   "metadata": {},
   "outputs": [],
   "source": [
    "#全結合層では2次元のテンソルしか受け取れない\n",
    "#=>二次元のテンソルに変換するFlattenレイヤーを使う\n",
    "from tensorflow.python.keras.layers import Flatten"
   ]
  },
  {
   "cell_type": "code",
   "execution_count": 14,
   "metadata": {},
   "outputs": [
    {
     "data": {
      "text/plain": [
       "(None, 4096)"
      ]
     },
     "execution_count": 14,
     "metadata": {},
     "output_type": "execute_result"
    }
   ],
   "source": [
    "model.add(Flatten())\n",
    "\n",
    "model.output_shape"
   ]
  },
  {
   "cell_type": "code",
   "execution_count": 15,
   "metadata": {},
   "outputs": [],
   "source": [
    "#全結合層の追加\n",
    "from tensorflow.python.keras.layers import Dense\n",
    "\n",
    "model.add(Dense(units=512, activation='relu'))\n",
    "model.add(Dropout(0.5))\n",
    "model.add(Dense(units=10, activation='softmax'))"
   ]
  },
  {
   "cell_type": "code",
   "execution_count": null,
   "metadata": {},
   "outputs": [
    {
     "name": "stdout",
     "output_type": "stream",
     "text": [
      "Train on 40000 samples, validate on 10000 samples\n",
      "Epoch 1/20\n",
      "40000/40000 [==============================] - 189s 5ms/step - loss: 1.6092 - acc: 0.4115 - val_loss: 1.2213 - val_acc: 0.5626\n",
      "Epoch 2/20\n",
      "40000/40000 [==============================] - 2924s 73ms/step - loss: 1.1842 - acc: 0.5761 - val_loss: 0.9826 - val_acc: 0.6509\n",
      "Epoch 3/20\n",
      "37760/40000 [===========================>..] - ETA: 11s - loss: 1.0182 - acc: 0.6383"
     ]
    }
   ],
   "source": [
    "#モデルのコンパイル\n",
    "from tensorflow.python.keras.callbacks import TensorBoard\n",
    "\n",
    "model.compile(\n",
    "    optimizer='adam',\n",
    "    loss='categorical_crossentropy',\n",
    "    metrics=['accuracy']\n",
    ")\n",
    "\n",
    "tsb = TensorBoard(log_dir='./logs/')\n",
    "history_model1 = model.fit(\n",
    "    X_train,\n",
    "    y_train,\n",
    "    batch_size=32,\n",
    "    epochs=20,\n",
    "    validation_split=0.2,\n",
    "    callbacks=[tsb]\n",
    ")"
   ]
  },
  {
   "cell_type": "code",
   "execution_count": null,
   "metadata": {},
   "outputs": [],
   "source": []
  }
 ],
 "metadata": {
  "kernelspec": {
   "display_name": "Python 3",
   "language": "python",
   "name": "python3"
  },
  "language_info": {
   "codemirror_mode": {
    "name": "ipython",
    "version": 3
   },
   "file_extension": ".py",
   "mimetype": "text/x-python",
   "name": "python",
   "nbconvert_exporter": "python",
   "pygments_lexer": "ipython3",
   "version": "3.6.5"
  },
  "latex_envs": {
   "LaTeX_envs_menu_present": true,
   "autoclose": false,
   "autocomplete": true,
   "bibliofile": "biblio.bib",
   "cite_by": "apalike",
   "current_citInitial": 1,
   "eqLabelWithNumbers": true,
   "eqNumInitial": 1,
   "hotkeys": {
    "equation": "Ctrl-E",
    "itemize": "Ctrl-I"
   },
   "labels_anchors": false,
   "latex_user_defs": false,
   "report_style_numbering": false,
   "user_envs_cfg": false
  },
  "toc": {
   "base_numbering": 1,
   "nav_menu": {},
   "number_sections": true,
   "sideBar": true,
   "skip_h1_title": false,
   "title_cell": "Table of Contents",
   "title_sidebar": "Contents",
   "toc_cell": false,
   "toc_position": {},
   "toc_section_display": true,
   "toc_window_display": false
  }
 },
 "nbformat": 4,
 "nbformat_minor": 2
}
