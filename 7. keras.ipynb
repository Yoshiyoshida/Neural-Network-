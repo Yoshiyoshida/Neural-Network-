{
 "cells": [
  {
   "cell_type": "code",
   "execution_count": 1,
   "metadata": {},
   "outputs": [
    {
     "name": "stderr",
     "output_type": "stream",
     "text": [
      "/Users/yoshidayuusei/.pyenv/versions/3.6.5/lib/python3.6/importlib/_bootstrap.py:219: RuntimeWarning: compiletime version 3.5 of module 'tensorflow.python.framework.fast_tensor_util' does not match runtime version 3.6\n",
      "  return f(*args, **kwds)\n"
     ]
    }
   ],
   "source": [
    "from tensorflow.python.keras.datasets import mnist"
   ]
  },
  {
   "cell_type": "code",
   "execution_count": 2,
   "metadata": {},
   "outputs": [],
   "source": [
    "(X_train, y_train) , (X_test, y_test) = mnist.load_data()"
   ]
  },
  {
   "cell_type": "code",
   "execution_count": 3,
   "metadata": {
    "scrolled": true
   },
   "outputs": [
    {
     "name": "stdout",
     "output_type": "stream",
     "text": [
      "X_train,shape :  (60000, 28, 28)\n",
      "y_train,shape :  (60000,)\n",
      "X_teat,shape :  (10000, 28, 28)\n",
      "y_test,shape :  (10000,)\n"
     ]
    }
   ],
   "source": [
    "print('X_train,shape : ', X_train.shape)#28*28の画像が60000個\n",
    "print('y_train,shape : ', y_train.shape)\n",
    "print('X_teat,shape : ', X_test.shape)\n",
    "print('y_test,shape : ', y_test.shape)"
   ]
  },
  {
   "cell_type": "code",
   "execution_count": 4,
   "metadata": {},
   "outputs": [],
   "source": [
    "X_train = X_train.reshape(60000, 784)\n",
    "X_test = X_test.reshape(10000, 784)\n",
    "\n",
    "#0~1へのスケール変換\n",
    "X_train = X_train/255\n",
    "X_test = X_test/255"
   ]
  },
  {
   "cell_type": "code",
   "execution_count": 5,
   "metadata": {},
   "outputs": [
    {
     "data": {
      "text/plain": [
       "array([5, 0, 4, ..., 5, 6, 8], dtype=uint8)"
      ]
     },
     "execution_count": 5,
     "metadata": {},
     "output_type": "execute_result"
    }
   ],
   "source": [
    "y_train"
   ]
  },
  {
   "cell_type": "code",
   "execution_count": 6,
   "metadata": {},
   "outputs": [],
   "source": [
    "from tensorflow.python.keras.utils import to_categorical\n",
    "\n",
    "#6000*10に変換\n",
    "#1-hotベクトル化\n",
    "y_train = to_categorical(y_train, 10)\n",
    "y_test = to_categorical(y_test, 10)"
   ]
  },
  {
   "cell_type": "code",
   "execution_count": 7,
   "metadata": {},
   "outputs": [
    {
     "data": {
      "text/plain": [
       "array([[0., 0., 0., ..., 0., 0., 0.],\n",
       "       [1., 0., 0., ..., 0., 0., 0.],\n",
       "       [0., 0., 0., ..., 0., 0., 0.],\n",
       "       ...,\n",
       "       [0., 0., 0., ..., 0., 0., 0.],\n",
       "       [0., 0., 0., ..., 0., 0., 0.],\n",
       "       [0., 0., 0., ..., 0., 1., 0.]], dtype=float32)"
      ]
     },
     "execution_count": 7,
     "metadata": {},
     "output_type": "execute_result"
    }
   ],
   "source": [
    "y_train"
   ]
  },
  {
   "cell_type": "code",
   "execution_count": 8,
   "metadata": {},
   "outputs": [],
   "source": [
    "#kerasでモデルを作る方法の一つ\n",
    "from tensorflow.python.keras.models import Sequential\n",
    "\n",
    "model = Sequential()"
   ]
  },
  {
   "cell_type": "code",
   "execution_count": 9,
   "metadata": {},
   "outputs": [],
   "source": [
    "#Denseレイヤーを用いて全結合層を作れる\n",
    "#全結合層: 全ての入力が全てのニューロンと結合していること\n",
    "from tensorflow.python.keras.layers import Dense\n",
    "\n",
    "#Sequential APIを用いて層を追加する\n",
    "model.add(\n",
    "            Dense(\n",
    "                        units=64,#ニューロン数\n",
    "                        input_shape=(784,),\n",
    "                        activation='relu'#それぞれのユニットに活性化関数を適用する\n",
    "            )\n",
    ")\n",
    "\n",
    "model.add(\n",
    "            Dense(\n",
    "                        units=10,#ニューロン数\n",
    "                        activation='softmax'\n",
    "            )\n",
    ")"
   ]
  },
  {
   "cell_type": "code",
   "execution_count": 10,
   "metadata": {},
   "outputs": [],
   "source": [
    "from tensorflow.python.keras.callbacks import TensorBoard"
   ]
  },
  {
   "cell_type": "code",
   "execution_count": 11,
   "metadata": {},
   "outputs": [],
   "source": [
    "model.compile(\n",
    "        optimizer='adam',\n",
    "        loss='categorical_crossentropy',\n",
    "        metrics=['accuracy']\n",
    ")"
   ]
  },
  {
   "cell_type": "code",
   "execution_count": 12,
   "metadata": {},
   "outputs": [],
   "source": [
    "tsb = TensorBoard(log_dir='./logs')"
   ]
  },
  {
   "cell_type": "code",
   "execution_count": 13,
   "metadata": {},
   "outputs": [
    {
     "name": "stdout",
     "output_type": "stream",
     "text": [
      "Train on 48000 samples, validate on 12000 samples\n",
      "Epoch 1/20\n",
      "48000/48000 [==============================] - 2s 48us/step - loss: 0.3354 - acc: 0.9055 - val_loss: 0.1824 - val_acc: 0.9483\n",
      "Epoch 2/20\n",
      "48000/48000 [==============================] - 2s 44us/step - loss: 0.1637 - acc: 0.9525 - val_loss: 0.1418 - val_acc: 0.9597\n",
      "Epoch 3/20\n",
      "48000/48000 [==============================] - 2s 44us/step - loss: 0.1211 - acc: 0.9638 - val_loss: 0.1273 - val_acc: 0.9616\n",
      "Epoch 4/20\n",
      "48000/48000 [==============================] - 2s 44us/step - loss: 0.0963 - acc: 0.9717 - val_loss: 0.1138 - val_acc: 0.9672\n",
      "Epoch 5/20\n",
      "48000/48000 [==============================] - 2s 44us/step - loss: 0.0796 - acc: 0.9760 - val_loss: 0.1027 - val_acc: 0.9708\n",
      "Epoch 6/20\n",
      "48000/48000 [==============================] - 2s 44us/step - loss: 0.0663 - acc: 0.9796 - val_loss: 0.1069 - val_acc: 0.9689\n",
      "Epoch 7/20\n",
      "48000/48000 [==============================] - 2s 45us/step - loss: 0.0554 - acc: 0.9837 - val_loss: 0.1082 - val_acc: 0.9699\n",
      "Epoch 8/20\n",
      "48000/48000 [==============================] - 2s 44us/step - loss: 0.0475 - acc: 0.9850 - val_loss: 0.1156 - val_acc: 0.9667\n",
      "Epoch 9/20\n",
      "48000/48000 [==============================] - 2s 45us/step - loss: 0.0411 - acc: 0.9870 - val_loss: 0.1029 - val_acc: 0.9708\n",
      "Epoch 10/20\n",
      "48000/48000 [==============================] - 2s 44us/step - loss: 0.0368 - acc: 0.9889 - val_loss: 0.0974 - val_acc: 0.9720\n",
      "Epoch 11/20\n",
      "48000/48000 [==============================] - 2s 44us/step - loss: 0.0302 - acc: 0.9914 - val_loss: 0.1109 - val_acc: 0.9700\n",
      "Epoch 12/20\n",
      "48000/48000 [==============================] - 2s 45us/step - loss: 0.0265 - acc: 0.9926 - val_loss: 0.1054 - val_acc: 0.9702\n",
      "Epoch 13/20\n",
      "48000/48000 [==============================] - 2s 45us/step - loss: 0.0229 - acc: 0.9934 - val_loss: 0.1188 - val_acc: 0.9703\n",
      "Epoch 14/20\n",
      "48000/48000 [==============================] - 2s 45us/step - loss: 0.0215 - acc: 0.9938 - val_loss: 0.1059 - val_acc: 0.9725\n",
      "Epoch 15/20\n",
      "48000/48000 [==============================] - 2s 47us/step - loss: 0.0176 - acc: 0.9948 - val_loss: 0.1141 - val_acc: 0.9718\n",
      "Epoch 16/20\n",
      "48000/48000 [==============================] - 2s 45us/step - loss: 0.0165 - acc: 0.9954 - val_loss: 0.1154 - val_acc: 0.9716\n",
      "Epoch 17/20\n",
      "48000/48000 [==============================] - 2s 45us/step - loss: 0.0143 - acc: 0.9961 - val_loss: 0.1248 - val_acc: 0.9709\n",
      "Epoch 18/20\n",
      "48000/48000 [==============================] - 2s 49us/step - loss: 0.0128 - acc: 0.9963 - val_loss: 0.1173 - val_acc: 0.9732\n",
      "Epoch 19/20\n",
      "48000/48000 [==============================] - 2s 45us/step - loss: 0.0121 - acc: 0.9966 - val_loss: 0.1222 - val_acc: 0.9709\n",
      "Epoch 20/20\n",
      "48000/48000 [==============================] - 2s 46us/step - loss: 0.0095 - acc: 0.9973 - val_loss: 0.1269 - val_acc: 0.9709\n"
     ]
    }
   ],
   "source": [
    "history_adam=model.fit(\n",
    "    X_train,\n",
    "    y_train,\n",
    "    batch_size=32,\n",
    "    epochs=20,\n",
    "    validation_split=0.2,\n",
    "    callbacks=[tsb]\n",
    ")"
   ]
  },
  {
   "cell_type": "code",
   "execution_count": null,
   "metadata": {},
   "outputs": [],
   "source": []
  }
 ],
 "metadata": {
  "kernelspec": {
   "display_name": "Python 3",
   "language": "python",
   "name": "python3"
  },
  "language_info": {
   "codemirror_mode": {
    "name": "ipython",
    "version": 3
   },
   "file_extension": ".py",
   "mimetype": "text/x-python",
   "name": "python",
   "nbconvert_exporter": "python",
   "pygments_lexer": "ipython3",
   "version": "3.6.5"
  },
  "latex_envs": {
   "LaTeX_envs_menu_present": true,
   "autoclose": false,
   "autocomplete": true,
   "bibliofile": "biblio.bib",
   "cite_by": "apalike",
   "current_citInitial": 1,
   "eqLabelWithNumbers": true,
   "eqNumInitial": 1,
   "hotkeys": {
    "equation": "Ctrl-E",
    "itemize": "Ctrl-I"
   },
   "labels_anchors": false,
   "latex_user_defs": false,
   "report_style_numbering": false,
   "user_envs_cfg": false
  },
  "toc": {
   "base_numbering": 1,
   "nav_menu": {},
   "number_sections": true,
   "sideBar": true,
   "skip_h1_title": false,
   "title_cell": "Table of Contents",
   "title_sidebar": "Contents",
   "toc_cell": false,
   "toc_position": {},
   "toc_section_display": true,
   "toc_window_display": false
  }
 },
 "nbformat": 4,
 "nbformat_minor": 2
}
