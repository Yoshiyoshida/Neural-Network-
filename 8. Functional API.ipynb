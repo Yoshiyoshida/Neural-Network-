{
 "cells": [
  {
   "cell_type": "code",
   "execution_count": 1,
   "metadata": {},
   "outputs": [],
   "source": [
    "from tensorflow.python.keras.datasets import mnist\n",
    "from tensorflow.python.keras.utils import to_categorical\n",
    "from tensorflow.python.keras.callbacks import TensorBoard\n",
    "from tensorflow.python.keras.layers import Input, Dense\n",
    "from tensorflow.python.keras.models import Model"
   ]
  },
  {
   "cell_type": "code",
   "execution_count": 2,
   "metadata": {},
   "outputs": [],
   "source": [
    "(X_train, y_train), (X_test, y_test) = mnist.load_data()"
   ]
  },
  {
   "cell_type": "code",
   "execution_count": 4,
   "metadata": {},
   "outputs": [],
   "source": [
    "X_train = X_train.reshape(60000, 784)\n",
    "X_test = X_test.reshape(10000, 784)\n",
    "X_train = X_train/255\n",
    "X_test = X_test/255\n",
    "\n",
    "y_train = to_categorical(y_train, 10)\n",
    "y_test = to_categorical(y_test, 10)\n",
    "\n",
    "tsb = TensorBoard(log_dir='./logs')"
   ]
  },
  {
   "cell_type": "code",
   "execution_count": 11,
   "metadata": {},
   "outputs": [],
   "source": [
    "input = Input(shape=(784, ))\n",
    "middle = Dense(units=64, activation='relu')(input)\n",
    "output = Dense(units=10, activation='softmax')(middle)\n",
    "#modelの入力出力が配列であることから複数の入力と出力が可能である\n",
    "model = Model(inputs=[input], outputs=[output])"
   ]
  },
  {
   "cell_type": "code",
   "execution_count": 8,
   "metadata": {},
   "outputs": [],
   "source": [
    "model.compile(\n",
    "    optimizer='adam',\n",
    "    loss='categorical_crossentropy',\n",
    "    metrics=['accuracy']\n",
    ")"
   ]
  },
  {
   "cell_type": "code",
   "execution_count": 10,
   "metadata": {},
   "outputs": [
    {
     "name": "stdout",
     "output_type": "stream",
     "text": [
      "Train on 48000 samples, validate on 12000 samples\n",
      "Epoch 1/20\n",
      "48000/48000 [==============================] - 3s 60us/step - loss: 1.4936 - acc: 0.6322 - val_loss: 0.8383 - val_acc: 0.8195\n",
      "Epoch 2/20\n",
      "48000/48000 [==============================] - 2s 44us/step - loss: 0.6710 - acc: 0.8350 - val_loss: 0.5196 - val_acc: 0.8744\n",
      "Epoch 3/20\n",
      "48000/48000 [==============================] - 2s 44us/step - loss: 0.4875 - acc: 0.8739 - val_loss: 0.4160 - val_acc: 0.8922\n",
      "Epoch 4/20\n",
      "48000/48000 [==============================] - 2s 44us/step - loss: 0.4136 - acc: 0.8890 - val_loss: 0.3678 - val_acc: 0.8992\n",
      "Epoch 5/20\n",
      "48000/48000 [==============================] - 2s 45us/step - loss: 0.3750 - acc: 0.8969 - val_loss: 0.3396 - val_acc: 0.9077\n",
      "Epoch 6/20\n",
      "48000/48000 [==============================] - 2s 45us/step - loss: 0.3507 - acc: 0.9015 - val_loss: 0.3213 - val_acc: 0.9104\n",
      "Epoch 7/20\n",
      "48000/48000 [==============================] - 2s 47us/step - loss: 0.3340 - acc: 0.9059 - val_loss: 0.3087 - val_acc: 0.9125\n",
      "Epoch 8/20\n",
      "48000/48000 [==============================] - 2s 47us/step - loss: 0.3211 - acc: 0.9086 - val_loss: 0.2987 - val_acc: 0.9158\n",
      "Epoch 9/20\n",
      "48000/48000 [==============================] - 2s 45us/step - loss: 0.3106 - acc: 0.9109 - val_loss: 0.2918 - val_acc: 0.9160\n",
      "Epoch 10/20\n",
      "48000/48000 [==============================] - 2s 45us/step - loss: 0.3016 - acc: 0.9134 - val_loss: 0.2812 - val_acc: 0.9197\n",
      "Epoch 11/20\n",
      "48000/48000 [==============================] - 2s 45us/step - loss: 0.2933 - acc: 0.9156 - val_loss: 0.2758 - val_acc: 0.9214\n",
      "Epoch 12/20\n",
      "48000/48000 [==============================] - 2s 45us/step - loss: 0.2862 - acc: 0.9175 - val_loss: 0.2692 - val_acc: 0.9253\n",
      "Epoch 13/20\n",
      "48000/48000 [==============================] - 2s 45us/step - loss: 0.2798 - acc: 0.9194 - val_loss: 0.2634 - val_acc: 0.9264\n",
      "Epoch 14/20\n",
      "48000/48000 [==============================] - 2s 46us/step - loss: 0.2732 - acc: 0.9217 - val_loss: 0.2594 - val_acc: 0.9261\n",
      "Epoch 15/20\n",
      "48000/48000 [==============================] - 2s 47us/step - loss: 0.2676 - acc: 0.9225 - val_loss: 0.2556 - val_acc: 0.9264\n",
      "Epoch 16/20\n",
      "48000/48000 [==============================] - 2s 47us/step - loss: 0.2621 - acc: 0.9239 - val_loss: 0.2504 - val_acc: 0.9286\n",
      "Epoch 17/20\n",
      "48000/48000 [==============================] - 2s 48us/step - loss: 0.2568 - acc: 0.9257 - val_loss: 0.2454 - val_acc: 0.9302\n",
      "Epoch 18/20\n",
      "48000/48000 [==============================] - 2s 47us/step - loss: 0.2516 - acc: 0.9267 - val_loss: 0.2426 - val_acc: 0.9308\n",
      "Epoch 19/20\n",
      "48000/48000 [==============================] - 2s 45us/step - loss: 0.2468 - acc: 0.9290 - val_loss: 0.2386 - val_acc: 0.9331\n",
      "Epoch 20/20\n",
      "48000/48000 [==============================] - 2s 48us/step - loss: 0.2420 - acc: 0.9300 - val_loss: 0.2330 - val_acc: 0.9332\n"
     ]
    },
    {
     "data": {
      "text/plain": [
       "<tensorflow.python.keras.callbacks.History at 0x12b425208>"
      ]
     },
     "execution_count": 10,
     "metadata": {},
     "output_type": "execute_result"
    }
   ],
   "source": [
    "model.fit(\n",
    "    X_train,\n",
    "    y_train,\n",
    "    batch_size=32,\n",
    "    epochs=20,\n",
    "    callbacks=[tsb],\n",
    "    validation_split=0.2\n",
    ")"
   ]
  },
  {
   "cell_type": "code",
   "execution_count": null,
   "metadata": {},
   "outputs": [],
   "source": []
  }
 ],
 "metadata": {
  "kernelspec": {
   "display_name": "Python 3",
   "language": "python",
   "name": "python3"
  },
  "language_info": {
   "codemirror_mode": {
    "name": "ipython",
    "version": 3
   },
   "file_extension": ".py",
   "mimetype": "text/x-python",
   "name": "python",
   "nbconvert_exporter": "python",
   "pygments_lexer": "ipython3",
   "version": "3.6.5"
  },
  "latex_envs": {
   "LaTeX_envs_menu_present": true,
   "autoclose": false,
   "autocomplete": true,
   "bibliofile": "biblio.bib",
   "cite_by": "apalike",
   "current_citInitial": 1,
   "eqLabelWithNumbers": true,
   "eqNumInitial": 1,
   "hotkeys": {
    "equation": "Ctrl-E",
    "itemize": "Ctrl-I"
   },
   "labels_anchors": false,
   "latex_user_defs": false,
   "report_style_numbering": false,
   "user_envs_cfg": false
  },
  "toc": {
   "base_numbering": 1,
   "nav_menu": {},
   "number_sections": true,
   "sideBar": true,
   "skip_h1_title": false,
   "title_cell": "Table of Contents",
   "title_sidebar": "Contents",
   "toc_cell": false,
   "toc_position": {},
   "toc_section_display": true,
   "toc_window_display": false
  }
 },
 "nbformat": 4,
 "nbformat_minor": 2
}
